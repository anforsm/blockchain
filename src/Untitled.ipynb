{
 "cells": [
  {
   "cell_type": "code",
   "execution_count": 1,
   "id": "fef2a895-56d8-4545-872f-1b3ab1f7c203",
   "metadata": {},
   "outputs": [],
   "source": [
    "from wallet import Wallet"
   ]
  },
  {
   "cell_type": "code",
   "execution_count": 2,
   "id": "a873480a-c17a-41d8-a8e0-74e0dc5d0f6c",
   "metadata": {},
   "outputs": [
    {
     "name": "stdout",
     "output_type": "stream",
     "text": [
      "feb888fe8c890d1390010fc02efa4929f1aa194e4607a1a38a8ca988b60c499b4b186a44905aeb1d741df0f4d75bb1ac75e197cb809e1265c1f0580f1773227d\n"
     ]
    }
   ],
   "source": [
    "wallet = Wallet()\n",
    "print(wallet.pubkeystring)"
   ]
  },
  {
   "cell_type": "code",
   "execution_count": 3,
   "id": "d6535fe2-eb51-4085-86ae-784ef9ef0085",
   "metadata": {},
   "outputs": [
    {
     "data": {
      "text/plain": [
       "0"
      ]
     },
     "execution_count": 3,
     "metadata": {},
     "output_type": "execute_result"
    }
   ],
   "source": [
    "wallet.balance()"
   ]
  },
  {
   "cell_type": "code",
   "execution_count": 4,
   "id": "dfc32d0b-9b5e-4e99-a844-73e96a7124e8",
   "metadata": {},
   "outputs": [],
   "source": [
    "wallet.mine()"
   ]
  },
  {
   "cell_type": "code",
   "execution_count": 5,
   "id": "baba110d-04c6-4658-8cb6-c545ff820388",
   "metadata": {},
   "outputs": [
    {
     "data": {
      "text/plain": [
       "50"
      ]
     },
     "execution_count": 5,
     "metadata": {},
     "output_type": "execute_result"
    }
   ],
   "source": [
    "wallet.balance()"
   ]
  },
  {
   "cell_type": "code",
   "execution_count": 6,
   "id": "07a86e81-18d9-4d1f-90c2-15091683c3b3",
   "metadata": {},
   "outputs": [],
   "source": [
    "wallet.pay(\"1\", 25)"
   ]
  },
  {
   "cell_type": "code",
   "execution_count": 7,
   "id": "c94e39c2-b6c2-4ca6-b474-36c16dacc4eb",
   "metadata": {},
   "outputs": [
    {
     "data": {
      "text/plain": [
       "25"
      ]
     },
     "execution_count": 7,
     "metadata": {},
     "output_type": "execute_result"
    }
   ],
   "source": [
    "wallet.blockchain.get_latest_utxo(\"1\")[1].get_balance(\"1\")"
   ]
  },
  {
   "cell_type": "code",
   "execution_count": 8,
   "id": "cce557c9-e47e-4c0b-88f3-7a9823a75077",
   "metadata": {},
   "outputs": [
    {
     "data": {
      "text/plain": [
       "[{'hash': '5d8a22d70ae895f780a91f09de37778e8d7618566a77ea83ba42814056e11b0c',\n",
       "  'prevHash': '0',\n",
       "  'nonce': 0,\n",
       "  'transactions': [{'hash': 'd99d728a5abe09c6e4b29af3a1ce3d61952026adf087c4f7ca8ddd8b74da63b4',\n",
       "    'from': '0',\n",
       "    'utxos': [{'pubkey': '0', 'amount': 0}, {'pubkey': '1', 'amount': 50}],\n",
       "    'sign': ''}],\n",
       "  'coinbase': '1'},\n",
       " {'hash': '000056fe5d1c493eb55eaad49dd172046bc0adcc42272ab8359c056ab465f26d',\n",
       "  'prevHash': '5d8a22d70ae895f780a91f09de37778e8d7618566a77ea83ba42814056e11b0c',\n",
       "  'nonce': 129042,\n",
       "  'transactions': [{'hash': '204ca9fb855e55b5589856f861498a544f40b91096d95a7184f8cc341dbf3c33',\n",
       "    'from': '0',\n",
       "    'utxos': [{'pubkey': '0', 'amount': 0},\n",
       "     {'pubkey': 'feb888fe8c890d1390010fc02efa4929f1aa194e4607a1a38a8ca988b60c499b4b186a44905aeb1d741df0f4d75bb1ac75e197cb809e1265c1f0580f1773227d',\n",
       "      'amount': 50}],\n",
       "    'sign': ''}],\n",
       "  'coinbase': 'feb888fe8c890d1390010fc02efa4929f1aa194e4607a1a38a8ca988b60c499b4b186a44905aeb1d741df0f4d75bb1ac75e197cb809e1265c1f0580f1773227d'},\n",
       " {'hash': '00000afadfc5ef130147e54449aeb3ba226183fcfe484932f9d66257189c700e',\n",
       "  'prevHash': '000056fe5d1c493eb55eaad49dd172046bc0adcc42272ab8359c056ab465f26d',\n",
       "  'nonce': 365017,\n",
       "  'transactions': [{'hash': '7e31c4da19b4afe7225086b1cad9c41baca68ae85b9d3b7b8eb33f0d91010b97',\n",
       "    'from': 'feb888fe8c890d1390010fc02efa4929f1aa194e4607a1a38a8ca988b60c499b4b186a44905aeb1d741df0f4d75bb1ac75e197cb809e1265c1f0580f1773227d',\n",
       "    'utxos': [{'pubkey': 'feb888fe8c890d1390010fc02efa4929f1aa194e4607a1a38a8ca988b60c499b4b186a44905aeb1d741df0f4d75bb1ac75e197cb809e1265c1f0580f1773227d',\n",
       "      'amount': 25},\n",
       "     {'pubkey': '1', 'amount': 25}],\n",
       "    'sign': 'd26970b724fc715cfb9aef9d31b3558e6fffad58c625b0140ddfb5cb71cf7407912f8bb79d16b6655789193c3e3bfd553dca823d4bd64dc33243efcf62fa10c6'},\n",
       "   {'hash': '204ca9fb855e55b5589856f861498a544f40b91096d95a7184f8cc341dbf3c33',\n",
       "    'from': '0',\n",
       "    'utxos': [{'pubkey': '0', 'amount': 0},\n",
       "     {'pubkey': 'feb888fe8c890d1390010fc02efa4929f1aa194e4607a1a38a8ca988b60c499b4b186a44905aeb1d741df0f4d75bb1ac75e197cb809e1265c1f0580f1773227d',\n",
       "      'amount': 50}],\n",
       "    'sign': ''}],\n",
       "  'coinbase': 'feb888fe8c890d1390010fc02efa4929f1aa194e4607a1a38a8ca988b60c499b4b186a44905aeb1d741df0f4d75bb1ac75e197cb809e1265c1f0580f1773227d'}]"
      ]
     },
     "execution_count": 8,
     "metadata": {},
     "output_type": "execute_result"
    }
   ],
   "source": [
    "wallet.blockchain.serialize()"
   ]
  },
  {
   "cell_type": "code",
   "execution_count": 9,
   "id": "32f80b94-c2e9-4a35-924c-a041cbfded2b",
   "metadata": {},
   "outputs": [
    {
     "data": {
      "text/plain": [
       "75"
      ]
     },
     "execution_count": 9,
     "metadata": {},
     "output_type": "execute_result"
    }
   ],
   "source": [
    "wallet.balance()"
   ]
  },
  {
   "cell_type": "code",
   "execution_count": 10,
   "id": "36fb08a3-c591-45bf-8a4c-74593173e7c8",
   "metadata": {},
   "outputs": [],
   "source": [
    "wallet.pay(\"2\", 20)"
   ]
  },
  {
   "cell_type": "code",
   "execution_count": 12,
   "id": "2ce913c8-d0f0-48bc-8265-6204193890ea",
   "metadata": {},
   "outputs": [
    {
     "data": {
      "text/plain": [
       "130"
      ]
     },
     "execution_count": 12,
     "metadata": {},
     "output_type": "execute_result"
    }
   ],
   "source": [
    "wallet.balance()"
   ]
  },
  {
   "cell_type": "code",
   "execution_count": 13,
   "id": "647e15e2-6965-43f1-8f39-7908f28500f1",
   "metadata": {},
   "outputs": [],
   "source": [
    "wallet.pay(\"1\", 130)"
   ]
  },
  {
   "cell_type": "code",
   "execution_count": 14,
   "id": "5aef8240-ae8f-42b2-ba0f-e087bb0d647c",
   "metadata": {},
   "outputs": [
    {
     "data": {
      "text/plain": [
       "130"
      ]
     },
     "execution_count": 14,
     "metadata": {},
     "output_type": "execute_result"
    }
   ],
   "source": [
    "wallet.balance()"
   ]
  },
  {
   "cell_type": "code",
   "execution_count": 16,
   "id": "ede90d83-4c87-4380-8aa8-4495b9f397bd",
   "metadata": {},
   "outputs": [
    {
     "data": {
      "text/plain": [
       "130"
      ]
     },
     "execution_count": 16,
     "metadata": {},
     "output_type": "execute_result"
    }
   ],
   "source": [
    "wallet.blockchain.get_latest_utxo(\"1\")[1].get_balance(\"1\")"
   ]
  },
  {
   "cell_type": "code",
   "execution_count": 17,
   "id": "d717dde8-0c2d-45f5-8ad9-c51bad81a545",
   "metadata": {},
   "outputs": [
    {
     "data": {
      "text/plain": [
       "[{'hash': '5d8a22d70ae895f780a91f09de37778e8d7618566a77ea83ba42814056e11b0c',\n",
       "  'prevHash': '0',\n",
       "  'nonce': 0,\n",
       "  'transactions': [{'hash': 'd99d728a5abe09c6e4b29af3a1ce3d61952026adf087c4f7ca8ddd8b74da63b4',\n",
       "    'from': '0',\n",
       "    'utxos': [{'pubkey': '0', 'amount': 0}, {'pubkey': '1', 'amount': 50}],\n",
       "    'sign': ''}],\n",
       "  'coinbase': '1'},\n",
       " {'hash': '000056fe5d1c493eb55eaad49dd172046bc0adcc42272ab8359c056ab465f26d',\n",
       "  'prevHash': '5d8a22d70ae895f780a91f09de37778e8d7618566a77ea83ba42814056e11b0c',\n",
       "  'nonce': 129042,\n",
       "  'transactions': [{'hash': '204ca9fb855e55b5589856f861498a544f40b91096d95a7184f8cc341dbf3c33',\n",
       "    'from': '0',\n",
       "    'utxos': [{'pubkey': '0', 'amount': 0},\n",
       "     {'pubkey': 'feb888fe8c890d1390010fc02efa4929f1aa194e4607a1a38a8ca988b60c499b4b186a44905aeb1d741df0f4d75bb1ac75e197cb809e1265c1f0580f1773227d',\n",
       "      'amount': 50}],\n",
       "    'sign': ''}],\n",
       "  'coinbase': 'feb888fe8c890d1390010fc02efa4929f1aa194e4607a1a38a8ca988b60c499b4b186a44905aeb1d741df0f4d75bb1ac75e197cb809e1265c1f0580f1773227d'},\n",
       " {'hash': '00000afadfc5ef130147e54449aeb3ba226183fcfe484932f9d66257189c700e',\n",
       "  'prevHash': '000056fe5d1c493eb55eaad49dd172046bc0adcc42272ab8359c056ab465f26d',\n",
       "  'nonce': 365017,\n",
       "  'transactions': [{'hash': '7e31c4da19b4afe7225086b1cad9c41baca68ae85b9d3b7b8eb33f0d91010b97',\n",
       "    'from': 'feb888fe8c890d1390010fc02efa4929f1aa194e4607a1a38a8ca988b60c499b4b186a44905aeb1d741df0f4d75bb1ac75e197cb809e1265c1f0580f1773227d',\n",
       "    'utxos': [{'pubkey': 'feb888fe8c890d1390010fc02efa4929f1aa194e4607a1a38a8ca988b60c499b4b186a44905aeb1d741df0f4d75bb1ac75e197cb809e1265c1f0580f1773227d',\n",
       "      'amount': 25},\n",
       "     {'pubkey': '1', 'amount': 25}],\n",
       "    'sign': 'd26970b724fc715cfb9aef9d31b3558e6fffad58c625b0140ddfb5cb71cf7407912f8bb79d16b6655789193c3e3bfd553dca823d4bd64dc33243efcf62fa10c6'},\n",
       "   {'hash': '204ca9fb855e55b5589856f861498a544f40b91096d95a7184f8cc341dbf3c33',\n",
       "    'from': '0',\n",
       "    'utxos': [{'pubkey': '0', 'amount': 0},\n",
       "     {'pubkey': 'feb888fe8c890d1390010fc02efa4929f1aa194e4607a1a38a8ca988b60c499b4b186a44905aeb1d741df0f4d75bb1ac75e197cb809e1265c1f0580f1773227d',\n",
       "      'amount': 50}],\n",
       "    'sign': ''}],\n",
       "  'coinbase': 'feb888fe8c890d1390010fc02efa4929f1aa194e4607a1a38a8ca988b60c499b4b186a44905aeb1d741df0f4d75bb1ac75e197cb809e1265c1f0580f1773227d'},\n",
       " {'hash': '0000686a2f6aa5b8b7198e71c91f1930704c3aa55fc719084c1006fe3a130ac7',\n",
       "  'prevHash': '00000afadfc5ef130147e54449aeb3ba226183fcfe484932f9d66257189c700e',\n",
       "  'nonce': 29150,\n",
       "  'transactions': [{'hash': '4977fbbc5d8f6b3dda72981bb28a2209ca0fe4d3882bb52779d699c3b38cb513',\n",
       "    'from': 'feb888fe8c890d1390010fc02efa4929f1aa194e4607a1a38a8ca988b60c499b4b186a44905aeb1d741df0f4d75bb1ac75e197cb809e1265c1f0580f1773227d',\n",
       "    'utxos': [{'pubkey': 'feb888fe8c890d1390010fc02efa4929f1aa194e4607a1a38a8ca988b60c499b4b186a44905aeb1d741df0f4d75bb1ac75e197cb809e1265c1f0580f1773227d',\n",
       "      'amount': 55},\n",
       "     {'pubkey': '2', 'amount': 20}],\n",
       "    'sign': 'aff8798176d19192e357c57ebc59d648caa7a20b695629e39b08d3ef4a7cc858b8cccbb7f00efdef58789e42669fa3ff4f324cbdb8258d9f0fd505ca55db7e62'},\n",
       "   {'hash': '204ca9fb855e55b5589856f861498a544f40b91096d95a7184f8cc341dbf3c33',\n",
       "    'from': '0',\n",
       "    'utxos': [{'pubkey': '0', 'amount': 0},\n",
       "     {'pubkey': 'feb888fe8c890d1390010fc02efa4929f1aa194e4607a1a38a8ca988b60c499b4b186a44905aeb1d741df0f4d75bb1ac75e197cb809e1265c1f0580f1773227d',\n",
       "      'amount': 50}],\n",
       "    'sign': ''}],\n",
       "  'coinbase': 'feb888fe8c890d1390010fc02efa4929f1aa194e4607a1a38a8ca988b60c499b4b186a44905aeb1d741df0f4d75bb1ac75e197cb809e1265c1f0580f1773227d'},\n",
       " {'hash': '000042ac464e2422a942dbfb49865d194da93c4f4553cb0f6cd3a4fa20d358c7',\n",
       "  'prevHash': '0000686a2f6aa5b8b7198e71c91f1930704c3aa55fc719084c1006fe3a130ac7',\n",
       "  'nonce': 558972,\n",
       "  'transactions': [{'hash': '2ad705db9188628df674a950d794bd40a98f36b11754795417476ef8fc30e27b',\n",
       "    'from': 'feb888fe8c890d1390010fc02efa4929f1aa194e4607a1a38a8ca988b60c499b4b186a44905aeb1d741df0f4d75bb1ac75e197cb809e1265c1f0580f1773227d',\n",
       "    'utxos': [{'pubkey': 'feb888fe8c890d1390010fc02efa4929f1aa194e4607a1a38a8ca988b60c499b4b186a44905aeb1d741df0f4d75bb1ac75e197cb809e1265c1f0580f1773227d',\n",
       "      'amount': 0},\n",
       "     {'pubkey': '1', 'amount': 130}],\n",
       "    'sign': '97d1bf402d79ac3d4e106fdf6ba6f122ec2833ba507491b1e0c5d140efdbd40852d126e870b601329b6e53f77e073479ce59d8d054183d24534edc3f429f5955'},\n",
       "   {'hash': '204ca9fb855e55b5589856f861498a544f40b91096d95a7184f8cc341dbf3c33',\n",
       "    'from': '0',\n",
       "    'utxos': [{'pubkey': '0', 'amount': 0},\n",
       "     {'pubkey': 'feb888fe8c890d1390010fc02efa4929f1aa194e4607a1a38a8ca988b60c499b4b186a44905aeb1d741df0f4d75bb1ac75e197cb809e1265c1f0580f1773227d',\n",
       "      'amount': 50}],\n",
       "    'sign': ''}],\n",
       "  'coinbase': 'feb888fe8c890d1390010fc02efa4929f1aa194e4607a1a38a8ca988b60c499b4b186a44905aeb1d741df0f4d75bb1ac75e197cb809e1265c1f0580f1773227d'}]"
      ]
     },
     "execution_count": 17,
     "metadata": {},
     "output_type": "execute_result"
    }
   ],
   "source": [
    "wallet.blockchain.serialize()"
   ]
  }
 ],
 "metadata": {
  "kernelspec": {
   "display_name": "Python 3",
   "language": "python",
   "name": "python3"
  },
  "language_info": {
   "codemirror_mode": {
    "name": "ipython",
    "version": 3
   },
   "file_extension": ".py",
   "mimetype": "text/x-python",
   "name": "python",
   "nbconvert_exporter": "python",
   "pygments_lexer": "ipython3",
   "version": "3.8.2"
  }
 },
 "nbformat": 4,
 "nbformat_minor": 5
}
